{
 "cells": [
  {
   "cell_type": "code",
   "execution_count": 8,
   "metadata": {},
   "outputs": [
    {
     "name": "stdout",
     "output_type": "stream",
     "text": [
      "Welcome to Jupyter Notebook! Best of Luck\n"
     ]
    }
   ],
   "source": [
    "print(\"Welcome to Jupyter Notebook! Best of Luck\")"
   ]
  },
  {
   "cell_type": "code",
   "execution_count": 10,
   "metadata": {},
   "outputs": [
    {
     "name": "stdout",
     "output_type": "stream",
     "text": [
      "6 X  0  =  0\n",
      "6 X  1  =  6\n",
      "6 X  2  =  12\n",
      "6 X  3  =  18\n",
      "6 X  4  =  24\n",
      "6 X  5  =  30\n",
      "6 X  6  =  36\n",
      "6 X  7  =  42\n",
      "6 X  8  =  48\n",
      "6 X  9  =  54\n"
     ]
    }
   ],
   "source": [
    "for i in range(10):\n",
    "    print('6 X ', i, ' = ', 6 * i)"
   ]
  },
  {
   "cell_type": "markdown",
   "metadata": {},
   "source": [
    "This is Python LVC for Oracle\n",
    "We are learning Python\n"
   ]
  },
  {
   "cell_type": "markdown",
   "metadata": {},
   "source": [
    "# Comprehensions"
   ]
  },
  {
   "cell_type": "code",
   "execution_count": 13,
   "metadata": {},
   "outputs": [
    {
     "name": "stdout",
     "output_type": "stream",
     "text": [
      "[91, 3, 92, 49, 78, 51, 59, 12, 19, 50, 78, 85, 47, 56, 72, 96, 8, 24, 64, 56, 92, 25, 84, 50, 57, 100, 57, 19, 55, 68, 92, 20, 13, 44, 8, 98, 77, 38, 37, 70, 66, 34, 93, 11, 22, 12, 44, 87, 49, 20, 35, 49, 40, 60, 98, 45, 53, 8, 37, 90, 1, 84, 64, 10, 90, 99, 26, 84, 11, 83, 27, 86, 62, 50, 33, 7, 92, 81, 3, 48, 18, 54, 31, 4, 43, 10, 75, 7, 38, 5, 28, 64, 24, 78, 38, 20, 44, 59, 9, 5, 21, 39, 99, 18, 91, 86, 85, 8, 39, 67, 86, 26, 49, 64, 29, 11, 25, 79, 69, 77]\n"
     ]
    }
   ],
   "source": [
    "import random\n",
    "R = []\n",
    "for i in range(120):\n",
    "    R.append(random.randint(1, 100))\n",
    "print(R)"
   ]
  },
  {
   "cell_type": "code",
   "execution_count": 14,
   "metadata": {},
   "outputs": [
    {
     "name": "stdout",
     "output_type": "stream",
     "text": [
      "[50, 85, 25, 50, 100, 55, 20, 70, 20, 35, 40, 60, 45, 90, 10, 90, 50, 10, 75, 5, 20, 5, 85, 25]\n"
     ]
    }
   ],
   "source": [
    "D5 = []\n",
    "for i in R:\n",
    "    if(i % 5 == 0):\n",
    "        D5.append(i)\n",
    "print(D5)"
   ]
  },
  {
   "cell_type": "code",
   "execution_count": 15,
   "metadata": {},
   "outputs": [
    {
     "name": "stdout",
     "output_type": "stream",
     "text": [
      "[50, 85, 25, 50, 100, 55, 20, 70, 20, 35, 40, 60, 45, 90, 10, 90, 50, 10, 75, 5, 20, 5, 85, 25]\n"
     ]
    }
   ],
   "source": [
    "D5C = [x for x in R if(x % 5 == 0)]\n",
    "print(D5C)"
   ]
  },
  {
   "cell_type": "markdown",
   "metadata": {},
   "source": [
    "Comprehension helps you create/work with a collection"
   ]
  },
  {
   "cell_type": "markdown",
   "metadata": {},
   "source": [
    "##### Syntax -> [ expr loop condition ]"
   ]
  },
  {
   "cell_type": "code",
   "execution_count": 16,
   "metadata": {},
   "outputs": [
    {
     "name": "stdout",
     "output_type": "stream",
     "text": [
      "[2, 4, 6, 8, 10, 12, 14, 16, 18, 20, 22, 24, 26, 28, 30, 32, 34, 36, 38, 40, 42, 44, 46, 48, 50, 52, 54, 56, 58, 60, 62, 64, 66, 68, 70, 72, 74, 76, 78, 80, 82, 84, 86, 88, 90, 92, 94, 96, 98, 100]\n"
     ]
    }
   ],
   "source": [
    "# Produce all the even numbers from 1 to 100\n",
    "EN = [i for i in range(1, 101) if(i % 2 == 0)]\n",
    "print(EN)"
   ]
  },
  {
   "cell_type": "code",
   "execution_count": 17,
   "metadata": {},
   "outputs": [
    {
     "name": "stdout",
     "output_type": "stream",
     "text": [
      "[1, 4, 9, 16, 25, 36, 49, 64, 81, 100, 121, 144, 169, 196, 225, 256, 289, 324, 361, 400]\n"
     ]
    }
   ],
   "source": [
    "# Produce the square of all the numbers between 1 and 20 which are divisible by 3\n",
    "SN = [n**2 for n in range(1, 21)]\n",
    "print(SN)"
   ]
  },
  {
   "cell_type": "code",
   "execution_count": 18,
   "metadata": {},
   "outputs": [
    {
     "name": "stdout",
     "output_type": "stream",
     "text": [
      "[9, 36, 81, 144, 225, 324]\n"
     ]
    }
   ],
   "source": [
    "SN = [n**2 for n in range(1, 21) if(n % 3 == 0)]\n",
    "print(SN)"
   ]
  },
  {
   "cell_type": "code",
   "execution_count": 19,
   "metadata": {},
   "outputs": [
    {
     "name": "stdout",
     "output_type": "stream",
     "text": [
      "[('red', 3), ('green', 5), ('blue', 4), ('yellow', 6)]\n"
     ]
    }
   ],
   "source": [
    "S = [\"red\", \"green\", \"blue\", \"yellow\"]\n",
    "# SC = [ (\"red\", 3), (\"green\", 5) ...]\n",
    "SC = [(s, len(s)) for s in S]\n",
    "print(SC)"
   ]
  },
  {
   "cell_type": "code",
   "execution_count": 24,
   "metadata": {},
   "outputs": [
    {
     "name": "stdout",
     "output_type": "stream",
     "text": [
      "(('red', 3), ('green', 5), ('blue', 4), ('yellow', 6))\n"
     ]
    }
   ],
   "source": [
    "SC = ((s, len(s)) for s in S)\n",
    "print(tuple(SC))"
   ]
  },
  {
   "cell_type": "code",
   "execution_count": 25,
   "metadata": {},
   "outputs": [
    {
     "name": "stdout",
     "output_type": "stream",
     "text": [
      "{'red': 3, 'green': 5, 'blue': 4, 'yellow': 6}\n"
     ]
    }
   ],
   "source": [
    "DC = { s:len(s) for s in S }\n",
    "print(DC)"
   ]
  },
  {
   "cell_type": "code",
   "execution_count": 26,
   "metadata": {},
   "outputs": [
    {
     "name": "stdout",
     "output_type": "stream",
     "text": [
      "******\n",
      "\n",
      "*****\n",
      "\n",
      "****\n",
      "\n",
      "***\n",
      "\n",
      "**\n",
      "\n",
      "*\n",
      "\n"
     ]
    }
   ],
   "source": [
    "stars = [ '*'*i+'\\n' for i in range(6, 0, -1) ]\n",
    "for line in stars:\n",
    "    print(line)"
   ]
  },
  {
   "cell_type": "code",
   "execution_count": 27,
   "metadata": {},
   "outputs": [
    {
     "name": "stdout",
     "output_type": "stream",
     "text": [
      "['******\\n', '*****\\n', '****\\n', '***\\n', '**\\n', '*\\n']\n"
     ]
    }
   ],
   "source": [
    "print(stars)"
   ]
  },
  {
   "cell_type": "code",
   "execution_count": 28,
   "metadata": {},
   "outputs": [
    {
     "name": "stdout",
     "output_type": "stream",
     "text": [
      "[(1, 1), (2, 4), (3, 9), (4, 16), (5, 25), (6, 36), (7, 49), (8, 64), (9, 81)]\n"
     ]
    }
   ],
   "source": [
    "LTC = [ (x, x**2) for x in range(1, 10) ]\n",
    "print(LTC)"
   ]
  },
  {
   "cell_type": "code",
   "execution_count": 31,
   "metadata": {},
   "outputs": [
    {
     "name": "stdout",
     "output_type": "stream",
     "text": [
      "[(1, 8), (2, 7), (3, 6), (4, 5), (5, 4), (6, 3), (7, 2), (8, 1)]\n"
     ]
    }
   ],
   "source": [
    "LTC = [ (x, y) for x in range(1, 10) for y in range(1, 10) if(x + y == 9) ]\n",
    "print(LTC)"
   ]
  },
  {
   "cell_type": "code",
   "execution_count": 32,
   "metadata": {},
   "outputs": [
    {
     "name": "stdout",
     "output_type": "stream",
     "text": [
      "[1, 2, 3, 4, 5, 6, 7, 8, 9, 10]\n"
     ]
    }
   ],
   "source": [
    "N = list(range(1, 11))\n",
    "print(N)"
   ]
  },
  {
   "cell_type": "code",
   "execution_count": 33,
   "metadata": {},
   "outputs": [
    {
     "name": "stdout",
     "output_type": "stream",
     "text": [
      "[9, 36, 81]\n"
     ]
    }
   ],
   "source": [
    "NC = [n**2 for n in N if(n%3==0)]\n",
    "print(NC)"
   ]
  },
  {
   "cell_type": "code",
   "execution_count": 34,
   "metadata": {},
   "outputs": [
    {
     "name": "stdout",
     "output_type": "stream",
     "text": [
      "[1, 2, 9, 4, 5, 36, 7, 8, 81, 10]\n"
     ]
    }
   ],
   "source": [
    "NC = [n**2 if n % 3 == 0 else n for n in N]\n",
    "print(NC)"
   ]
  },
  {
   "cell_type": "code",
   "execution_count": 35,
   "metadata": {},
   "outputs": [
    {
     "ename": "SyntaxError",
     "evalue": "invalid syntax (<ipython-input-35-cc9531f301c5>, line 1)",
     "output_type": "error",
     "traceback": [
      "\u001b[1;36m  File \u001b[1;32m\"<ipython-input-35-cc9531f301c5>\"\u001b[1;36m, line \u001b[1;32m1\u001b[0m\n\u001b[1;33m    NC = [n**2 for n in N if n % 3 == 0 else n]\u001b[0m\n\u001b[1;37m                                           ^\u001b[0m\n\u001b[1;31mSyntaxError\u001b[0m\u001b[1;31m:\u001b[0m invalid syntax\n"
     ]
    }
   ],
   "source": [
    "NC = [n**2 for n in N if n % 3 == 0 else n]\n",
    "print(NC)"
   ]
  },
  {
   "cell_type": "code",
   "execution_count": 41,
   "metadata": {},
   "outputs": [
    {
     "name": "stdout",
     "output_type": "stream",
     "text": [
      "Evens: [0, 2, 4, 6, 8, 10, 12, 14, 16, 18, 20, 22, 24, 26, 28, 30, 32, 34, 36, 38, 40, 42, 44, 46, 48, 50, 52, 54, 56, 58, 60, 62, 64, 66, 68, 70, 72, 74, 76, 78, 80, 82, 84, 86, 88, 90, 92, 94, 96, 98]\n",
      "Odds: [1, 3, 5, 7, 9, 11, 13, 15, 17, 19, 21, 23, 25, 27, 29, 31, 33, 35, 37, 39, 41, 43, 45, 47, 49, 51, 53, 55, 57, 59, 61, 63, 65, 67, 69, 71, 73, 75, 77, 79, 81, 83, 85, 87, 89, 91, 93, 95, 97, 99]\n"
     ]
    }
   ],
   "source": [
    "O = []\n",
    "E = []\n",
    "C = [ O.append(n) if n % 2 != 0 else E.append(n) for n in range(100)]\n",
    "print(\"Evens:\", E)\n",
    "print(\"Odds:\",O)"
   ]
  },
  {
   "cell_type": "code",
   "execution_count": 45,
   "metadata": {},
   "outputs": [
    {
     "name": "stdout",
     "output_type": "stream",
     "text": [
      "{'odds': [1, 3, 5, 7, 9, 11, 13, 15, 17, 19, 21, 23, 25, 27, 29, 31, 33, 35, 37, 39, 41, 43, 45, 47, 49, 51, 53, 55, 57, 59, 61, 63, 65, 67, 69, 71, 73, 75, 77, 79, 81, 83, 85, 87, 89, 91, 93, 95, 97, 99], 'evens': [0, 2, 4, 6, 8, 10, 12, 14, 16, 18, 20, 22, 24, 26, 28, 30, 32, 34, 36, 38, 40, 42, 44, 46, 48, 50, 52, 54, 56, 58, 60, 62, 64, 66, 68, 70, 72, 74, 76, 78, 80, 82, 84, 86, 88, 90, 92, 94, 96, 98]}\n"
     ]
    }
   ],
   "source": [
    "D = { 'odds': [], \"evens\": []}\n",
    "C = [ D[\"odds\"].append(n) if n % 2 != 0 else D[\"evens\"].append(n) for n in range(100)]\n",
    "print(D)"
   ]
  },
  {
   "cell_type": "code",
   "execution_count": null,
   "metadata": {},
   "outputs": [],
   "source": []
  },
  {
   "cell_type": "code",
   "execution_count": null,
   "metadata": {},
   "outputs": [],
   "source": []
  },
  {
   "cell_type": "code",
   "execution_count": null,
   "metadata": {},
   "outputs": [],
   "source": []
  },
  {
   "cell_type": "code",
   "execution_count": null,
   "metadata": {},
   "outputs": [],
   "source": []
  },
  {
   "cell_type": "code",
   "execution_count": null,
   "metadata": {},
   "outputs": [],
   "source": []
  },
  {
   "cell_type": "code",
   "execution_count": null,
   "metadata": {},
   "outputs": [],
   "source": []
  },
  {
   "cell_type": "code",
   "execution_count": null,
   "metadata": {},
   "outputs": [],
   "source": []
  },
  {
   "cell_type": "code",
   "execution_count": null,
   "metadata": {},
   "outputs": [],
   "source": []
  }
 ],
 "metadata": {
  "kernelspec": {
   "display_name": "Python 3",
   "language": "python",
   "name": "python3"
  },
  "language_info": {
   "codemirror_mode": {
    "name": "ipython",
    "version": 3
   },
   "file_extension": ".py",
   "mimetype": "text/x-python",
   "name": "python",
   "nbconvert_exporter": "python",
   "pygments_lexer": "ipython3",
   "version": "3.7.3"
  }
 },
 "nbformat": 4,
 "nbformat_minor": 2
}
