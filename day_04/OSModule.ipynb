{
 "cells": [
  {
   "cell_type": "code",
   "execution_count": 1,
   "metadata": {},
   "outputs": [],
   "source": [
    "import os\n",
    "import os.path\n",
    "import shutil\n",
    "import subprocess"
   ]
  },
  {
   "cell_type": "code",
   "execution_count": 2,
   "metadata": {},
   "outputs": [
    {
     "data": {
      "text/plain": [
       "'C:\\\\Users\\\\Purushotham\\\\Desktop\\\\oracle'"
      ]
     },
     "execution_count": 2,
     "metadata": {},
     "output_type": "execute_result"
    }
   ],
   "source": [
    "os.getcwd()"
   ]
  },
  {
   "cell_type": "code",
   "execution_count": 3,
   "metadata": {},
   "outputs": [
    {
     "data": {
      "text/plain": [
       "'C:\\\\Users\\\\Purushotham\\\\Desktop\\\\oracle\\\\day_04\\\\data'"
      ]
     },
     "execution_count": 3,
     "metadata": {},
     "output_type": "execute_result"
    }
   ],
   "source": [
    "path = r\"C:\\Users\\Purushotham\\Desktop\\oracle\\day_04\\data\"\n",
    "os.chdir(path)\n",
    "os.getcwd()"
   ]
  },
  {
   "cell_type": "code",
   "execution_count": 4,
   "metadata": {},
   "outputs": [
    {
     "name": "stdout",
     "output_type": "stream",
     "text": [
      "['data1.txt', 'data1.xlsx', 'data2.txt', 'data2.xlsx', 'road.jpg', 'sunflower.jpg']\n"
     ]
    }
   ],
   "source": [
    "files = os.listdir()\n",
    "print(files)"
   ]
  },
  {
   "cell_type": "code",
   "execution_count": 8,
   "metadata": {},
   "outputs": [
    {
     "data": {
      "text/plain": [
       "'txt'"
      ]
     },
     "execution_count": 8,
     "metadata": {},
     "output_type": "execute_result"
    }
   ],
   "source": [
    "os.path.splitext('data1.txt')[1][1:]"
   ]
  },
  {
   "cell_type": "code",
   "execution_count": 10,
   "metadata": {},
   "outputs": [
    {
     "name": "stdout",
     "output_type": "stream",
     "text": [
      "['txt', 'xlsx', 'txt', 'xlsx', 'jpg', 'jpg']\n"
     ]
    }
   ],
   "source": [
    "exts = []\n",
    "for file in files:\n",
    "    exts.append(os.path.splitext(file)[1][1:])\n",
    "print(exts)"
   ]
  },
  {
   "cell_type": "code",
   "execution_count": 11,
   "metadata": {},
   "outputs": [
    {
     "name": "stdout",
     "output_type": "stream",
     "text": [
      "{'xlsx', 'jpg', 'txt'}\n"
     ]
    }
   ],
   "source": [
    "dirs = set(exts)\n",
    "print(dirs)"
   ]
  },
  {
   "cell_type": "code",
   "execution_count": 12,
   "metadata": {},
   "outputs": [],
   "source": [
    "for dir in dirs:\n",
    "    os.mkdir(dir)"
   ]
  },
  {
   "cell_type": "code",
   "execution_count": 15,
   "metadata": {},
   "outputs": [
    {
     "name": "stdout",
     "output_type": "stream",
     "text": [
      "C:\\Users\\Purushotham\\Desktop\\oracle\\day_04\\data\\data1.txt\n",
      "C:\\Users\\Purushotham\\Desktop\\oracle\\day_04\\data\\txt\\data1.txt\n"
     ]
    }
   ],
   "source": [
    "src  = os.path.join(path, \"data1.txt\")\n",
    "dest = os.path.join(path, \"txt\", \"data1.txt\")\n",
    "print(src)\n",
    "print(dest)"
   ]
  },
  {
   "cell_type": "code",
   "execution_count": 18,
   "metadata": {},
   "outputs": [],
   "source": [
    "for file in files:\n",
    "    src = os.path.join(path, file)\n",
    "    ext = os.path.splitext(file)[1][1:]\n",
    "    dest = os.path.join(path, ext, file)\n",
    "    shutil.move(src, dest)"
   ]
  },
  {
   "cell_type": "markdown",
   "metadata": {},
   "source": [
    "#### Calling System Functions"
   ]
  },
  {
   "cell_type": "code",
   "execution_count": 19,
   "metadata": {},
   "outputs": [
    {
     "data": {
      "text/plain": [
       "0"
      ]
     },
     "execution_count": 19,
     "metadata": {},
     "output_type": "execute_result"
    }
   ],
   "source": [
    "import subprocess\n",
    "subprocess.call(\"dir\", shell=True)"
   ]
  },
  {
   "cell_type": "code",
   "execution_count": 20,
   "metadata": {},
   "outputs": [],
   "source": [
    "content = subprocess.check_output(\"dir\", shell=True) # ipconfig -all"
   ]
  },
  {
   "cell_type": "code",
   "execution_count": 21,
   "metadata": {},
   "outputs": [
    {
     "name": "stdout",
     "output_type": "stream",
     "text": [
      "b' Volume in drive C is Windows\\r\\n Volume Serial Number is 68CD-4284\\r\\n\\r\\n Directory of C:\\\\Users\\\\Purushotham\\\\Desktop\\\\oracle\\\\day_04\\\\data\\r\\n\\r\\n21-01-2021  13:12    <DIR>          .\\r\\n21-01-2021  13:12    <DIR>          ..\\r\\n21-01-2021  13:09    <DIR>          jpg\\r\\n21-01-2021  13:12               834 OSModule.py\\r\\n21-01-2021  13:09    <DIR>          txt\\r\\n21-01-2021  13:09    <DIR>          xlsx\\r\\n               1 File(s)            834 bytes\\r\\n               5 Dir(s)  263,310,815,232 bytes free\\r\\n'\n"
     ]
    }
   ],
   "source": [
    "print(content)"
   ]
  },
  {
   "cell_type": "code",
   "execution_count": 22,
   "metadata": {},
   "outputs": [],
   "source": [
    "content = content.decode()\n"
   ]
  },
  {
   "cell_type": "code",
   "execution_count": 23,
   "metadata": {},
   "outputs": [
    {
     "name": "stdout",
     "output_type": "stream",
     "text": [
      " Volume in drive C is Windows\r\n",
      " Volume Serial Number is 68CD-4284\r\n",
      "\r\n",
      " Directory of C:\\Users\\Purushotham\\Desktop\\oracle\\day_04\\data\r\n",
      "\r\n",
      "21-01-2021  13:12    <DIR>          .\r\n",
      "21-01-2021  13:12    <DIR>          ..\r\n",
      "21-01-2021  13:09    <DIR>          jpg\r\n",
      "21-01-2021  13:12               834 OSModule.py\r\n",
      "21-01-2021  13:09    <DIR>          txt\r\n",
      "21-01-2021  13:09    <DIR>          xlsx\r\n",
      "               1 File(s)            834 bytes\r\n",
      "               5 Dir(s)  263,310,815,232 bytes free\r\n",
      "\n"
     ]
    }
   ],
   "source": [
    "print(content)"
   ]
  },
  {
   "cell_type": "code",
   "execution_count": 24,
   "metadata": {},
   "outputs": [
    {
     "data": {
      "text/plain": [
       "str"
      ]
     },
     "execution_count": 24,
     "metadata": {},
     "output_type": "execute_result"
    }
   ],
   "source": [
    "type(content)"
   ]
  },
  {
   "cell_type": "code",
   "execution_count": null,
   "metadata": {},
   "outputs": [],
   "source": []
  }
 ],
 "metadata": {
  "kernelspec": {
   "display_name": "Python 3",
   "language": "python",
   "name": "python3"
  },
  "language_info": {
   "codemirror_mode": {
    "name": "ipython",
    "version": 3
   },
   "file_extension": ".py",
   "mimetype": "text/x-python",
   "name": "python",
   "nbconvert_exporter": "python",
   "pygments_lexer": "ipython3",
   "version": "3.7.3"
  }
 },
 "nbformat": 4,
 "nbformat_minor": 2
}
