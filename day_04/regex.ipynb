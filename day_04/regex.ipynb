{
 "cells": [
  {
   "cell_type": "code",
   "execution_count": 1,
   "metadata": {},
   "outputs": [],
   "source": [
    "import re"
   ]
  },
  {
   "cell_type": "code",
   "execution_count": 2,
   "metadata": {},
   "outputs": [
    {
     "name": "stdout",
     "output_type": "stream",
     "text": [
      "<re.Match object; span=(12, 18), match='23.456'>\n"
     ]
    }
   ],
   "source": [
    "text = \"Temperature 23.456 degree celcius\"\n",
    "m = re.search(r\"\\d+\\.?\\d*\", text)\n",
    "print(m)"
   ]
  },
  {
   "cell_type": "code",
   "execution_count": 3,
   "metadata": {},
   "outputs": [
    {
     "data": {
      "text/plain": [
       "'23.456'"
      ]
     },
     "execution_count": 3,
     "metadata": {},
     "output_type": "execute_result"
    }
   ],
   "source": [
    "text[12:18]"
   ]
  },
  {
   "cell_type": "code",
   "execution_count": 4,
   "metadata": {},
   "outputs": [
    {
     "data": {
      "text/plain": [
       "re.Match"
      ]
     },
     "execution_count": 4,
     "metadata": {},
     "output_type": "execute_result"
    }
   ],
   "source": [
    "type(m)"
   ]
  },
  {
   "cell_type": "code",
   "execution_count": 5,
   "metadata": {},
   "outputs": [
    {
     "data": {
      "text/plain": [
       "'23.456'"
      ]
     },
     "execution_count": 5,
     "metadata": {},
     "output_type": "execute_result"
    }
   ],
   "source": [
    "m.group()"
   ]
  },
  {
   "cell_type": "code",
   "execution_count": 6,
   "metadata": {},
   "outputs": [
    {
     "data": {
      "text/plain": [
       "(12, 18)"
      ]
     },
     "execution_count": 6,
     "metadata": {},
     "output_type": "execute_result"
    }
   ],
   "source": [
    "m.span()"
   ]
  },
  {
   "cell_type": "code",
   "execution_count": 7,
   "metadata": {},
   "outputs": [
    {
     "data": {
      "text/plain": [
       "12"
      ]
     },
     "execution_count": 7,
     "metadata": {},
     "output_type": "execute_result"
    }
   ],
   "source": [
    "m.start()"
   ]
  },
  {
   "cell_type": "code",
   "execution_count": 8,
   "metadata": {},
   "outputs": [
    {
     "data": {
      "text/plain": [
       "18"
      ]
     },
     "execution_count": 8,
     "metadata": {},
     "output_type": "execute_result"
    }
   ],
   "source": [
    "m.end()"
   ]
  },
  {
   "cell_type": "code",
   "execution_count": 12,
   "metadata": {},
   "outputs": [],
   "source": [
    "m = re.search(r\"(?P<decimal>\\d+)\\.?(?P<fraction>\\d*)\", text)"
   ]
  },
  {
   "cell_type": "code",
   "execution_count": null,
   "metadata": {},
   "outputs": [],
   "source": []
  },
  {
   "cell_type": "code",
   "execution_count": 13,
   "metadata": {},
   "outputs": [
    {
     "data": {
      "text/plain": [
       "'23.456'"
      ]
     },
     "execution_count": 13,
     "metadata": {},
     "output_type": "execute_result"
    }
   ],
   "source": [
    "m.group()"
   ]
  },
  {
   "cell_type": "code",
   "execution_count": 14,
   "metadata": {},
   "outputs": [
    {
     "data": {
      "text/plain": [
       "('23', '456')"
      ]
     },
     "execution_count": 14,
     "metadata": {},
     "output_type": "execute_result"
    }
   ],
   "source": [
    "m.groups()"
   ]
  },
  {
   "cell_type": "code",
   "execution_count": 15,
   "metadata": {},
   "outputs": [
    {
     "data": {
      "text/plain": [
       "{'decimal': '23', 'fraction': '456'}"
      ]
     },
     "execution_count": 15,
     "metadata": {},
     "output_type": "execute_result"
    }
   ],
   "source": [
    "m.groupdict()"
   ]
  },
  {
   "cell_type": "markdown",
   "metadata": {},
   "source": [
    "# Metacharacters"
   ]
  },
  {
   "cell_type": "code",
   "execution_count": 16,
   "metadata": {},
   "outputs": [
    {
     "name": "stdout",
     "output_type": "stream",
     "text": [
      "a5555 matched in 'a5555b'\n",
      "a5555 matched in 'a55555b'\n",
      "a5555 matched in 'a555555b'\n"
     ]
    }
   ],
   "source": [
    "import re\n",
    "data = ['ab ', 'abc', 'a5e', 'a6f', '123 a6c anc', 'a5b', 'a55b', 'a555b', 'a5555b',\n",
    "        'a55555b', 'a555555b', 'a5xb', '1/4', '3+2=5', 'def ghi', 'abc ab']\n",
    "for item in data:\n",
    "\tm = re.search(r'a(55){2}', item)\n",
    "\tif m:\n",
    "\t\tprint (m.group() + ' matched in ' + '\\'' + item + '\\'')"
   ]
  },
  {
   "cell_type": "code",
   "execution_count": 17,
   "metadata": {},
   "outputs": [
    {
     "name": "stdout",
     "output_type": "stream",
     "text": [
      "abc matched in 'abc'\n",
      "a6c matched in '123 a6c anc'\n",
      "abc matched in 'abc ab'\n"
     ]
    }
   ],
   "source": [
    "for item in data:\n",
    "\tm = re.search(r'a.c', item)\n",
    "\tif m:\n",
    "\t\tprint (m.group() + ' matched in ' + '\\'' + item + '\\'')"
   ]
  },
  {
   "cell_type": "code",
   "execution_count": 18,
   "metadata": {},
   "outputs": [
    {
     "name": "stdout",
     "output_type": "stream",
     "text": [
      "abc matched in 'abc'\n",
      "a6c matched in '123 a6c anc'\n",
      "a5b matched in 'a5b'\n",
      "abc matched in 'abc ab'\n"
     ]
    }
   ],
   "source": [
    "for item in data:\n",
    "\tm = re.search(r'a.[abc]', item)\n",
    "\tif m:\n",
    "\t\tprint (m.group() + ' matched in ' + '\\'' + item + '\\'')"
   ]
  },
  {
   "cell_type": "code",
   "execution_count": 19,
   "metadata": {},
   "outputs": [
    {
     "name": "stdout",
     "output_type": "stream",
     "text": [
      "a5e matched in 'a5e'\n",
      "a6f matched in 'a6f'\n",
      "a5b matched in 'a5b'\n",
      "a5x matched in 'a5xb'\n"
     ]
    }
   ],
   "source": [
    "for item in data:\n",
    "\tm = re.search(r'a.[abd-z]', item)\n",
    "\tif m:\n",
    "\t\tprint (m.group() + ' matched in ' + '\\'' + item + '\\'')"
   ]
  },
  {
   "cell_type": "code",
   "execution_count": 20,
   "metadata": {},
   "outputs": [
    {
     "name": "stdout",
     "output_type": "stream",
     "text": [
      "a5e matched in 'a5e'\n",
      "a6f matched in 'a6f'\n",
      "a6c matched in '123 a6c anc'\n",
      "a5b matched in 'a5b'\n",
      "a5x matched in 'a5xb'\n"
     ]
    }
   ],
   "source": [
    "for item in data:\n",
    "\tm = re.search(r'a[0-9][^0-9]', item)\n",
    "\tif m:\n",
    "\t\tprint (m.group() + ' matched in ' + '\\'' + item + '\\'')"
   ]
  },
  {
   "cell_type": "code",
   "execution_count": 21,
   "metadata": {},
   "outputs": [
    {
     "name": "stdout",
     "output_type": "stream",
     "text": [
      "ab matched in 'ab '\n",
      "ab matched in 'abc'\n",
      "de matched in 'def ghi'\n",
      "ab matched in 'abc ab'\n"
     ]
    }
   ],
   "source": [
    "for item in data:\n",
    "\tm = re.search(r'ab|de', item)\n",
    "\tif m:\n",
    "\t\tprint (m.group() + ' matched in ' + '\\'' + item + '\\'')"
   ]
  },
  {
   "cell_type": "code",
   "execution_count": 22,
   "metadata": {},
   "outputs": [
    {
     "name": "stdout",
     "output_type": "stream",
     "text": [
      "a5e matched in 'a5e'\n",
      "a6f matched in 'a6f'\n",
      "a6c matched in '123 a6c anc'\n",
      "a5b matched in 'a5b'\n",
      "a5x matched in 'a5xb'\n"
     ]
    }
   ],
   "source": [
    "for item in data:\n",
    "\tm = re.search(r'a\\d\\D', item)\n",
    "\tif m:\n",
    "\t\tprint (m.group() + ' matched in ' + '\\'' + item + '\\'')"
   ]
  },
  {
   "cell_type": "code",
   "execution_count": 23,
   "metadata": {},
   "outputs": [
    {
     "name": "stdout",
     "output_type": "stream",
     "text": [
      "ab  matched in 'ab '\n",
      "abc matched in 'abc'\n",
      "a5e matched in 'a5e'\n",
      "a6f matched in 'a6f'\n",
      "a6c matched in '123 a6c anc'\n",
      "a5b matched in 'a5b'\n",
      "a5x matched in 'a5xb'\n",
      "abc matched in 'abc ab'\n"
     ]
    }
   ],
   "source": [
    "for item in data:\n",
    "\tm = re.search(r'a.\\D', item)\n",
    "\tif m:\n",
    "\t\tprint (m.group() + ' matched in ' + '\\'' + item + '\\'')"
   ]
  },
  {
   "cell_type": "code",
   "execution_count": 24,
   "metadata": {},
   "outputs": [
    {
     "name": "stdout",
     "output_type": "stream",
     "text": [
      "ab  matched in 'ab '\n"
     ]
    }
   ],
   "source": [
    "for item in data:\n",
    "\tm = re.search(r'a.\\s', item)\n",
    "\tif m:\n",
    "\t\tprint (m.group() + ' matched in ' + '\\'' + item + '\\'')"
   ]
  },
  {
   "cell_type": "code",
   "execution_count": 26,
   "metadata": {},
   "outputs": [
    {
     "name": "stdout",
     "output_type": "stream",
     "text": [
      "123 a matched in '123 a6c anc'\n",
      "def g matched in 'def ghi'\n",
      "abc a matched in 'abc ab'\n"
     ]
    }
   ],
   "source": [
    "for item in data:\n",
    "\tm = re.search(r'...\\s.', item)\n",
    "\tif m:\n",
    "\t\tprint (m.group() + ' matched in ' + '\\'' + item + '\\'')"
   ]
  },
  {
   "cell_type": "code",
   "execution_count": 27,
   "metadata": {},
   "outputs": [
    {
     "name": "stdout",
     "output_type": "stream",
     "text": [
      "a6 matched in 'a6f'\n",
      "a6 matched in '123 a6c anc'\n"
     ]
    }
   ],
   "source": [
    "for item in data:\n",
    "\tm = re.search(r'a6', item)\n",
    "\tif m:\n",
    "\t\tprint (m.group() + ' matched in ' + '\\'' + item + '\\'')"
   ]
  },
  {
   "cell_type": "code",
   "execution_count": 28,
   "metadata": {},
   "outputs": [
    {
     "name": "stdout",
     "output_type": "stream",
     "text": [
      "a6 matched in 'a6f'\n"
     ]
    }
   ],
   "source": [
    "for item in data:\n",
    "\tm = re.search(r'^a6', item)\n",
    "\tif m:\n",
    "\t\tprint (m.group() + ' matched in ' + '\\'' + item + '\\'')"
   ]
  },
  {
   "cell_type": "code",
   "execution_count": 29,
   "metadata": {},
   "outputs": [
    {
     "name": "stdout",
     "output_type": "stream",
     "text": [
      "abc matched in 'abc'\n",
      "a6c matched in '123 a6c anc'\n",
      "abc matched in 'abc ab'\n"
     ]
    }
   ],
   "source": [
    "for item in data:\n",
    "\tm = re.search(r'..c', item)\n",
    "\tif m:\n",
    "\t\tprint (m.group() + ' matched in ' + '\\'' + item + '\\'')"
   ]
  },
  {
   "cell_type": "code",
   "execution_count": 30,
   "metadata": {},
   "outputs": [
    {
     "name": "stdout",
     "output_type": "stream",
     "text": [
      "abc matched in 'abc'\n",
      "anc matched in '123 a6c anc'\n"
     ]
    }
   ],
   "source": [
    "for item in data:\n",
    "\tm = re.search(r'..c$', item)\n",
    "\tif m:\n",
    "\t\tprint (m.group() + ' matched in ' + '\\'' + item + '\\'')"
   ]
  },
  {
   "cell_type": "code",
   "execution_count": 31,
   "metadata": {},
   "outputs": [
    {
     "name": "stdout",
     "output_type": "stream",
     "text": [
      "ab matched in 'ab '\n",
      "ab matched in 'abc ab'\n"
     ]
    }
   ],
   "source": [
    "for item in data:\n",
    "\tm = re.search(r'ab\\b', item)\n",
    "\tif m:\n",
    "\t\tprint (m.group() + ' matched in ' + '\\'' + item + '\\'')"
   ]
  },
  {
   "cell_type": "code",
   "execution_count": 32,
   "metadata": {},
   "outputs": [
    {
     "name": "stdout",
     "output_type": "stream",
     "text": [
      "ab matched in 'abc'\n",
      "ab matched in 'abc ab'\n"
     ]
    }
   ],
   "source": [
    "for item in data:\n",
    "\tm = re.search(r'ab\\B', item)\n",
    "\tif m:\n",
    "\t\tprint (m.group() + ' matched in ' + '\\'' + item + '\\'')"
   ]
  },
  {
   "cell_type": "code",
   "execution_count": 33,
   "metadata": {},
   "outputs": [
    {
     "name": "stdout",
     "output_type": "stream",
     "text": [
      "a555 matched in 'a555b'\n",
      "a5555 matched in 'a5555b'\n",
      "a55555 matched in 'a55555b'\n",
      "a555555 matched in 'a555555b'\n"
     ]
    }
   ],
   "source": [
    "for item in data:\n",
    "\tm = re.search(r'a5555*', item)\n",
    "\tif m:\n",
    "\t\tprint (m.group() + ' matched in ' + '\\'' + item + '\\'')"
   ]
  },
  {
   "cell_type": "code",
   "execution_count": 34,
   "metadata": {},
   "outputs": [
    {
     "name": "stdout",
     "output_type": "stream",
     "text": [
      "a5555 matched in 'a5555b'\n",
      "a55555 matched in 'a55555b'\n",
      "a555555 matched in 'a555555b'\n"
     ]
    }
   ],
   "source": [
    "for item in data:\n",
    "\tm = re.search(r'a5555+', item)\n",
    "\tif m:\n",
    "\t\tprint (m.group() + ' matched in ' + '\\'' + item + '\\'')"
   ]
  },
  {
   "cell_type": "code",
   "execution_count": 35,
   "metadata": {},
   "outputs": [
    {
     "name": "stdout",
     "output_type": "stream",
     "text": [
      "a555 matched in 'a555b'\n",
      "a5555 matched in 'a5555b'\n",
      "a5555 matched in 'a55555b'\n",
      "a5555 matched in 'a555555b'\n"
     ]
    }
   ],
   "source": [
    "for item in data:\n",
    "\tm = re.search(r'a5555?', item)\n",
    "\tif m:\n",
    "\t\tprint (m.group() + ' matched in ' + '\\'' + item + '\\'')"
   ]
  },
  {
   "cell_type": "code",
   "execution_count": 40,
   "metadata": {},
   "outputs": [
    {
     "name": "stdout",
     "output_type": "stream",
     "text": [
      "a55555 matched in 'a55555b'\n",
      "a55555 matched in 'a555555b'\n"
     ]
    }
   ],
   "source": [
    "for item in data:\n",
    "\tm = re.search(r'a555{3}', item)\n",
    "\tif m:\n",
    "\t\tprint (m.group() + ' matched in ' + '\\'' + item + '\\'')"
   ]
  },
  {
   "cell_type": "code",
   "execution_count": 42,
   "metadata": {},
   "outputs": [
    {
     "name": "stdout",
     "output_type": "stream",
     "text": [
      "a5555 matched in 'a5555b'\n",
      "a55555 matched in 'a55555b'\n",
      "a555555 matched in 'a555555b'\n"
     ]
    }
   ],
   "source": [
    "for item in data:\n",
    "\tm = re.search(r'a55{3,5}', item)\n",
    "\tif m:\n",
    "\t\tprint (m.group() + ' matched in ' + '\\'' + item + '\\'')"
   ]
  },
  {
   "cell_type": "code",
   "execution_count": 43,
   "metadata": {},
   "outputs": [
    {
     "name": "stdout",
     "output_type": "stream",
     "text": [
      "a5555 matched in 'a5555b'\n",
      "a55555 matched in 'a55555b'\n",
      "a555555 matched in 'a555555b'\n"
     ]
    }
   ],
   "source": [
    "for item in data:\n",
    "\tm = re.search(r'a55{3,}', item)\n",
    "\tif m:\n",
    "\t\tprint (m.group() + ' matched in ' + '\\'' + item + '\\'')"
   ]
  },
  {
   "cell_type": "code",
   "execution_count": 44,
   "metadata": {},
   "outputs": [
    {
     "name": "stdout",
     "output_type": "stream",
     "text": [
      "a5 matched in 'a5e'\n",
      "a5 matched in 'a5b'\n",
      "a55 matched in 'a55b'\n",
      "a555 matched in 'a555b'\n",
      "a5555 matched in 'a5555b'\n",
      "a55555 matched in 'a55555b'\n",
      "a555555 matched in 'a555555b'\n",
      "a5 matched in 'a5xb'\n"
     ]
    }
   ],
   "source": [
    "for item in data:\n",
    "\tm = re.search(r'a55{,5}', item)\n",
    "\tif m:\n",
    "\t\tprint (m.group() + ' matched in ' + '\\'' + item + '\\'')"
   ]
  },
  {
   "cell_type": "code",
   "execution_count": 45,
   "metadata": {},
   "outputs": [
    {
     "name": "stdout",
     "output_type": "stream",
     "text": [
      "a5555 matched in 'a5555b'\n",
      "a5555 matched in 'a55555b'\n",
      "a5555 matched in 'a555555b'\n"
     ]
    }
   ],
   "source": [
    "for item in data:\n",
    "\tm = re.search(r'a(55){2}', item)\n",
    "\tif m:\n",
    "\t\tprint (m.group() + ' matched in ' + '\\'' + item + '\\'')"
   ]
  },
  {
   "cell_type": "code",
   "execution_count": null,
   "metadata": {},
   "outputs": [],
   "source": []
  }
 ],
 "metadata": {
  "kernelspec": {
   "display_name": "Python 3",
   "language": "python",
   "name": "python3"
  },
  "language_info": {
   "codemirror_mode": {
    "name": "ipython",
    "version": 3
   },
   "file_extension": ".py",
   "mimetype": "text/x-python",
   "name": "python",
   "nbconvert_exporter": "python",
   "pygments_lexer": "ipython3",
   "version": "3.7.3"
  }
 },
 "nbformat": 4,
 "nbformat_minor": 2
}
